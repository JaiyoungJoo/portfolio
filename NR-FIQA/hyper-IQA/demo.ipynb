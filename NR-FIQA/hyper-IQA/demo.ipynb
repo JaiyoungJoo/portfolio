{
 "cells": [
  {
   "cell_type": "code",
   "execution_count": 2,
   "metadata": {},
   "outputs": [],
   "source": [
    "import torch\n",
    "import torchvision\n",
    "import models\n",
    "from PIL import Image\n",
    "import numpy as np\n",
    "import pandas as pd\n",
    "import sys\n",
    "import os\n",
    "from scipy import stats\n",
    "import matplotlib.pyplot as plt\n",
    "import cv2\n",
    "from turtle import color\n",
    "from sklearn.metrics import mean_squared_error \n",
    "\n",
    "def pil_loader(path):\n",
    "    with open(path, 'rb') as f:\n",
    "        img = Image.open(f)\n",
    "        return img.convert('RGB')"
   ]
  },
  {
   "cell_type": "code",
   "execution_count": 3,
   "metadata": {},
   "outputs": [],
   "source": [
    "# model_hyper = models.HyperNet(16, 112, 224, 112, 56, 28, 14, 7).cuda()\n",
    "model_hyper = models.HyperNet(16, 112, 224, 112, 56, 28, 14, 7).cpu()\n",
    "model_hyper.train(False)\n",
    "# load our pre-trained model on the koniq-10k dataset\n",
    "ckpt = (torch.load('./pretrained/koniq_pretrained.pkl', map_location=torch.device('cpu')))\n",
    "model_hyper.load_state_dict(ckpt)\n",
    "\n",
    "transforms = torchvision.transforms.Compose([\n",
    "                    torchvision.transforms.Resize((512, 384)),\n",
    "                    torchvision.transforms.RandomCrop(size=224),\n",
    "                    torchvision.transforms.ToTensor(),\n",
    "                    torchvision.transforms.Normalize(mean=(0.485, 0.456, 0.406),\n",
    "                                                     std=(0.229, 0.224, 0.225))])"
   ]
  },
  {
   "cell_type": "code",
   "execution_count": 4,
   "metadata": {},
   "outputs": [],
   "source": [
    "# 이미지가 있는 폴더 경로 지정\n",
    "# filenames에 폴더 안의 이미지 파일명이 리스트로 저장된다.\n",
    "# data 폴더 안에 예시 이미지 3장이 있음.\n",
    "# data 폴더 안에 있는 예시 이미지 3장을 지우고 예측하려는 이미지를 복사 붙여넣기 하거나\n",
    "# 아예 경로를 바꿀 것\n",
    "filenames = os.listdir('./data')"
   ]
  },
  {
   "cell_type": "code",
   "execution_count": 5,
   "metadata": {},
   "outputs": [
    {
     "name": "stdout",
     "output_type": "stream",
     "text": [
      "['D_01.jpg', 'D_02.jpg', 'D_03.jpg']\n"
     ]
    }
   ],
   "source": [
    "# 이미지 파일명 확인\n",
    "print(filenames)"
   ]
  },
  {
   "cell_type": "code",
   "execution_count": 31,
   "metadata": {},
   "outputs": [
    {
     "data": {
      "text/html": [
       "<div>\n",
       "<style scoped>\n",
       "    .dataframe tbody tr th:only-of-type {\n",
       "        vertical-align: middle;\n",
       "    }\n",
       "\n",
       "    .dataframe tbody tr th {\n",
       "        vertical-align: top;\n",
       "    }\n",
       "\n",
       "    .dataframe thead th {\n",
       "        text-align: right;\n",
       "    }\n",
       "</style>\n",
       "<table border=\"1\" class=\"dataframe\">\n",
       "  <thead>\n",
       "    <tr style=\"text-align: right;\">\n",
       "      <th></th>\n",
       "      <th>Model_name</th>\n",
       "      <th>filename</th>\n",
       "      <th>score</th>\n",
       "    </tr>\n",
       "  </thead>\n",
       "  <tbody>\n",
       "    <tr>\n",
       "      <th>0</th>\n",
       "      <td>HyperIQA</td>\n",
       "      <td>D_01.jpg</td>\n",
       "      <td>0</td>\n",
       "    </tr>\n",
       "    <tr>\n",
       "      <th>1</th>\n",
       "      <td>HyperIQA</td>\n",
       "      <td>D_02.jpg</td>\n",
       "      <td>0</td>\n",
       "    </tr>\n",
       "    <tr>\n",
       "      <th>2</th>\n",
       "      <td>HyperIQA</td>\n",
       "      <td>D_03.jpg</td>\n",
       "      <td>0</td>\n",
       "    </tr>\n",
       "  </tbody>\n",
       "</table>\n",
       "</div>"
      ],
      "text/plain": [
       "  Model_name  filename  score\n",
       "0   HyperIQA  D_01.jpg      0\n",
       "1   HyperIQA  D_02.jpg      0\n",
       "2   HyperIQA  D_03.jpg      0"
      ]
     },
     "execution_count": 31,
     "metadata": {},
     "output_type": "execute_result"
    }
   ],
   "source": [
    "# DataFrame을 만들어 준다. \n",
    "df = pd.DataFrame({'Model_name':['HyperIQA' for i in range(len(filenames))],\n",
    "                        'filename':[filename for filename in filenames],\n",
    "                        'score':[0 for i in range(len(filenames))]})\n",
    "df"
   ]
  },
  {
   "cell_type": "code",
   "execution_count": 32,
   "metadata": {},
   "outputs": [
    {
     "name": "stderr",
     "output_type": "stream",
     "text": [
      "C:\\Users\\wodud\\AppData\\Local\\Temp\\ipykernel_17240\\855171706.py:12: UserWarning: To copy construct from a tensor, it is recommended to use sourceTensor.clone().detach() or sourceTensor.clone().detach().requires_grad_(True), rather than torch.tensor(sourceTensor).\n",
      "  img = torch.tensor(img.cpu()).unsqueeze(0)\n"
     ]
    },
    {
     "name": "stdout",
     "output_type": "stream",
     "text": [
      "Predicted quality score: 76.78, 1\n",
      "Predicted quality score: 68.98, 2\n",
      "Predicted quality score: 33.85, 3\n"
     ]
    }
   ],
   "source": [
    "# for문을 이용해서 이미지 파일명을 하나하나 불러온다.\n",
    "cnt = 0 # 몇 번째 사진인지 출력하기 위한 count\n",
    "for filename in filenames:\n",
    "    \n",
    "    im_path = f'./data/{filename}' # {filename} 이거 앞에 폴더 경로를 위에서 넣어준 것과 같게 변경해야 한다.\n",
    "    # random crop 10 patches and calculate mean quality score\n",
    "    pred_scores = []\n",
    "    for i in range(10):\n",
    "        img = pil_loader(im_path)\n",
    "        img = transforms(img)\n",
    "        # img = torch.tensor(img.cuda()).unsqueeze(0)\n",
    "        img = torch.tensor(img.cpu()).unsqueeze(0)\n",
    "        paras = model_hyper(img)  # 'paras' contains the network weights conveyed to target network\n",
    "\n",
    "        # Building target network\n",
    "        # model_target = models.TargetNet(paras).cuda()\n",
    "        model_target = models.TargetNet(paras).cpu()\n",
    "        for param in model_target.parameters():\n",
    "            param.requires_grad = False\n",
    "\n",
    "        # Quality prediction\n",
    "        pred = model_target(paras['target_in_vec'])  # 'paras['target_in_vec']' is the input to target net\n",
    "        pred_scores.append(float(pred.item()))\n",
    "    score = np.mean(pred_scores) # 이게 최종 예측 score 임.\n",
    "    \n",
    "    # 아래 코드는 DataFrame을 만들 경우 score 값을 바로 DataFrame에 넣기 위한 코드이다.\n",
    "    df.loc[df['filename'] == filename, 'score'] = score\n",
    "    # df['filename'] = filename\n",
    "    # df['score'] = score\n",
    "    # df.loc[df.index == cnt, 'score'] = score\n",
    "    # 만약 원하는 이미지 장수만큼만 예측할 경우 count를 이용해서 break 해준다.\n",
    "    # 폴더 내 모든 이미지를 예측할 경우 주석 처리하면 된다.\n",
    "    # if cnt == 488:\n",
    "    #     break\n",
    "    cnt += 1\n",
    "    \n",
    "    # quality score ranges from 0-100, a higher score indicates a better quality\n",
    "    # 최종적으로 예측 점수와 몇 번째 이미지인지 나오게 된다.\n",
    "    print('Predicted quality score: %.2f, %d' % (score, cnt))"
   ]
  },
  {
   "cell_type": "code",
   "execution_count": 33,
   "metadata": {},
   "outputs": [
    {
     "data": {
      "text/html": [
       "<div>\n",
       "<style scoped>\n",
       "    .dataframe tbody tr th:only-of-type {\n",
       "        vertical-align: middle;\n",
       "    }\n",
       "\n",
       "    .dataframe tbody tr th {\n",
       "        vertical-align: top;\n",
       "    }\n",
       "\n",
       "    .dataframe thead th {\n",
       "        text-align: right;\n",
       "    }\n",
       "</style>\n",
       "<table border=\"1\" class=\"dataframe\">\n",
       "  <thead>\n",
       "    <tr style=\"text-align: right;\">\n",
       "      <th></th>\n",
       "      <th>Model_name</th>\n",
       "      <th>filename</th>\n",
       "      <th>score</th>\n",
       "    </tr>\n",
       "  </thead>\n",
       "  <tbody>\n",
       "    <tr>\n",
       "      <th>0</th>\n",
       "      <td>HyperIQA</td>\n",
       "      <td>D_01.jpg</td>\n",
       "      <td>76.782438</td>\n",
       "    </tr>\n",
       "    <tr>\n",
       "      <th>1</th>\n",
       "      <td>HyperIQA</td>\n",
       "      <td>D_02.jpg</td>\n",
       "      <td>68.978039</td>\n",
       "    </tr>\n",
       "    <tr>\n",
       "      <th>2</th>\n",
       "      <td>HyperIQA</td>\n",
       "      <td>D_03.jpg</td>\n",
       "      <td>33.845548</td>\n",
       "    </tr>\n",
       "  </tbody>\n",
       "</table>\n",
       "</div>"
      ],
      "text/plain": [
       "  Model_name  filename      score\n",
       "0   HyperIQA  D_01.jpg  76.782438\n",
       "1   HyperIQA  D_02.jpg  68.978039\n",
       "2   HyperIQA  D_03.jpg  33.845548"
      ]
     },
     "execution_count": 33,
     "metadata": {},
     "output_type": "execute_result"
    }
   ],
   "source": [
    "# 결과\n",
    "df"
   ]
  }
 ],
 "metadata": {
  "kernelspec": {
   "display_name": "Python 3.10.6 ('base')",
   "language": "python",
   "name": "python3"
  },
  "language_info": {
   "codemirror_mode": {
    "name": "ipython",
    "version": 3
   },
   "file_extension": ".py",
   "mimetype": "text/x-python",
   "name": "python",
   "nbconvert_exporter": "python",
   "pygments_lexer": "ipython3",
   "version": "3.10.6"
  },
  "orig_nbformat": 4,
  "vscode": {
   "interpreter": {
    "hash": "22c888409490c8f3f14ba3a18ab03ccf1a808d381e2678124b51c915abfa1d1b"
   }
  }
 },
 "nbformat": 4,
 "nbformat_minor": 2
}
